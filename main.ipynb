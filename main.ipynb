{
  "cells": [
    {
      "cell_type": "code",
      "execution_count": 1,
      "metadata": {
        "id": "68DNaRb2nH38"
      },
      "outputs": [],
      "source": [
        "#Gerekli kütüphaneleri ekleme\n",
        "import numpy as np\n",
        "import pandas as pd\n",
        "import matplotlib.pyplot as plt \n",
        "from scipy import stats\n",
        "\n",
        "from sklearn.linear_model import SGDClassifier\n",
        "from sklearn.metrics import confusion_matrix, accuracy_score\n",
        "from sklearn.naive_bayes import ComplementNB\n",
        "from sklearn.neighbors import KNeighborsClassifier\n",
        "from sklearn.ensemble import GradientBoostingClassifier\n",
        "from sklearn import tree\n",
        "\n",
        "from sklearn.metrics import precision_recall_curve\n",
        "from sklearn.metrics import plot_precision_recall_curve\n",
        "from sklearn.metrics import f1_score\n",
        "from sklearn.metrics import precision_recall_fscore_support as score\n",
        "\n",
        "import seaborn as sn\n",
        "import warnings\n",
        "warnings.filterwarnings('ignore')"
      ]
    },
    {
      "cell_type": "code",
      "execution_count": 2,
      "metadata": {
        "id": "UkISIjW0nPlX"
      },
      "outputs": [],
      "source": [
        "df = pd.read_csv(\"yz_dataset.csv\")"
      ]
    },
    {
      "cell_type": "code",
      "execution_count": 3,
      "metadata": {
        "colab": {
          "base_uri": "https://localhost:8080/",
          "height": 694
        },
        "id": "ht1PobSFnRdm",
        "outputId": "97419510-84e9-4246-aa44-5a3f8c16bfd0"
      },
      "outputs": [
        {
          "output_type": "execute_result",
          "data": {
            "text/plain": [
              "           Zaman damgası  Yaşınız ? Cinsiyetiniz ?  \\\n",
              "0    08.05.2022 23:11:32         23          Erkek   \n",
              "1    08.05.2022 23:11:51         23          Erkek   \n",
              "2    08.05.2022 23:17:50         23          Erkek   \n",
              "3    08.05.2022 23:18:51         21          Erkek   \n",
              "4    08.05.2022 23:19:23         22          Erkek   \n",
              "..                   ...        ...            ...   \n",
              "251  12.05.2022 21:59:39         24          Kadın   \n",
              "252  13.05.2022 09:46:40         22          Erkek   \n",
              "253  13.05.2022 17:30:58         27          Erkek   \n",
              "254  14.05.2022 10:25:42         18          Kadın   \n",
              "255  16.05.2022 13:04:51         22          Kadın   \n",
              "\n",
              "    Aşağıdaki renklerden en çok hangisini seviyorsunuz ?  \\\n",
              "0                                                Beyaz     \n",
              "1                                                Siyah     \n",
              "2                                                  Gri     \n",
              "3                                                Yeşil     \n",
              "4                                                 Mavi     \n",
              "..                                                 ...     \n",
              "251                                               Sarı     \n",
              "252                                               Mavi     \n",
              "253                                            Turuncu     \n",
              "254                                               Mavi     \n",
              "255                                              Yeşil     \n",
              "\n",
              "    Tütün veya Alkol kullanıyor musunuz ?  \\\n",
              "0                                   Hayır   \n",
              "1                                    Evet   \n",
              "2                                    Evet   \n",
              "3                                    Evet   \n",
              "4                                    Evet   \n",
              "..                                    ...   \n",
              "251                                  Evet   \n",
              "252                                  Evet   \n",
              "253                                  Evet   \n",
              "254                                  Evet   \n",
              "255                                 Hayır   \n",
              "\n",
              "    Aşağıdaki hayvanlardan en çok hangisini seviyorsunuz ?  \\\n",
              "0                                                  Kuş       \n",
              "1                                                 Kedi       \n",
              "2                                                 Kedi       \n",
              "3                                                Köpek       \n",
              "4                                                Köpek       \n",
              "..                                                 ...       \n",
              "251                                              Balık       \n",
              "252                                            Penguen       \n",
              "253                                               Kedi       \n",
              "254                                              Köpek       \n",
              "255                                              Köpek       \n",
              "\n",
              "    Aşağıdaki müzik türlerinden en çok hangisini seviyorsunuz Burcunuz ?  \\\n",
              "0                                         İlahi - Ezgi             Balık   \n",
              "1                                                 Rock           İkizler   \n",
              "2                                         Klasik Müzik            Yengeç   \n",
              "3                                                 Rock             Aslan   \n",
              "4                                                 Rock             Başak   \n",
              "..                                                 ...               ...   \n",
              "251                                                Pop             Başak   \n",
              "252                                               Rock             Oğlak   \n",
              "253                                               Rock               Koç   \n",
              "254                                               Rock            Terazi   \n",
              "255                                                Pop              Boğa   \n",
              "\n",
              "    En sevdiğiniz mevsim hangisidir ? Kendinizi nasıl tanımlarsınız?  \\\n",
              "0                            İlkbahar                       İçedönük   \n",
              "1                            İlkbahar                      Dışadönük   \n",
              "2                                 Kış                       İçedönük   \n",
              "3                            İlkbahar                       İçedönük   \n",
              "4                            İlkbahar                       İçedönük   \n",
              "..                                ...                            ...   \n",
              "251                               Yaz                      Dışadönük   \n",
              "252                               Yaz                       İçedönük   \n",
              "253                               Yaz                      Dışadönük   \n",
              "254                               Yaz                      Dışadönük   \n",
              "255                          İlkbahar                      Dışadönük   \n",
              "\n",
              "    Sevgiliniz veya eşiniz var mı ? Hayal kurmayı sever misiniz ?  \\\n",
              "0                             Hayır                          Evet   \n",
              "1                              Evet                          Evet   \n",
              "2                              Evet                          Evet   \n",
              "3                             Hayır                          Evet   \n",
              "4                             Hayır                          Evet   \n",
              "..                              ...                           ...   \n",
              "251                            Evet                         Hayır   \n",
              "252                           Hayır                          Evet   \n",
              "253                            Evet                          Evet   \n",
              "254                           Hayır                          Evet   \n",
              "255                           Hayır                          Evet   \n",
              "\n",
              "    Aşağıdaki sporlardan en çok hangisini seviyorsunuz ?  \n",
              "0       Top ile oynanan (Futbol, Basketbol, Tenis vb.)    \n",
              "1                                               Yüzmek    \n",
              "2                   Bisiklet, Kaykay, Paten vb. sürmek    \n",
              "3       Top ile oynanan (Futbol, Basketbol, Tenis vb.)    \n",
              "4                                               Yüzmek    \n",
              "..                                                 ...    \n",
              "251     Top ile oynanan (Futbol, Basketbol, Tenis vb.)    \n",
              "252                 Bisiklet, Kaykay, Paten vb. sürmek    \n",
              "253     Top ile oynanan (Futbol, Basketbol, Tenis vb.)    \n",
              "254     Top ile oynanan (Futbol, Basketbol, Tenis vb.)    \n",
              "255     Top ile oynanan (Futbol, Basketbol, Tenis vb.)    \n",
              "\n",
              "[256 rows x 13 columns]"
            ],
            "text/html": [
              "\n",
              "  <div id=\"df-84603609-bfce-4cff-beab-b2f6e986f3d1\">\n",
              "    <div class=\"colab-df-container\">\n",
              "      <div>\n",
              "<style scoped>\n",
              "    .dataframe tbody tr th:only-of-type {\n",
              "        vertical-align: middle;\n",
              "    }\n",
              "\n",
              "    .dataframe tbody tr th {\n",
              "        vertical-align: top;\n",
              "    }\n",
              "\n",
              "    .dataframe thead th {\n",
              "        text-align: right;\n",
              "    }\n",
              "</style>\n",
              "<table border=\"1\" class=\"dataframe\">\n",
              "  <thead>\n",
              "    <tr style=\"text-align: right;\">\n",
              "      <th></th>\n",
              "      <th>Zaman damgası</th>\n",
              "      <th>Yaşınız ?</th>\n",
              "      <th>Cinsiyetiniz ?</th>\n",
              "      <th>Aşağıdaki renklerden en çok hangisini seviyorsunuz ?</th>\n",
              "      <th>Tütün veya Alkol kullanıyor musunuz ?</th>\n",
              "      <th>Aşağıdaki hayvanlardan en çok hangisini seviyorsunuz ?</th>\n",
              "      <th>Aşağıdaki müzik türlerinden en çok hangisini seviyorsunuz</th>\n",
              "      <th>Burcunuz ?</th>\n",
              "      <th>En sevdiğiniz mevsim hangisidir ?</th>\n",
              "      <th>Kendinizi nasıl tanımlarsınız?</th>\n",
              "      <th>Sevgiliniz veya eşiniz var mı ?</th>\n",
              "      <th>Hayal kurmayı sever misiniz ?</th>\n",
              "      <th>Aşağıdaki sporlardan en çok hangisini seviyorsunuz ?</th>\n",
              "    </tr>\n",
              "  </thead>\n",
              "  <tbody>\n",
              "    <tr>\n",
              "      <th>0</th>\n",
              "      <td>08.05.2022 23:11:32</td>\n",
              "      <td>23</td>\n",
              "      <td>Erkek</td>\n",
              "      <td>Beyaz</td>\n",
              "      <td>Hayır</td>\n",
              "      <td>Kuş</td>\n",
              "      <td>İlahi - Ezgi</td>\n",
              "      <td>Balık</td>\n",
              "      <td>İlkbahar</td>\n",
              "      <td>İçedönük</td>\n",
              "      <td>Hayır</td>\n",
              "      <td>Evet</td>\n",
              "      <td>Top ile oynanan (Futbol, Basketbol, Tenis vb.)</td>\n",
              "    </tr>\n",
              "    <tr>\n",
              "      <th>1</th>\n",
              "      <td>08.05.2022 23:11:51</td>\n",
              "      <td>23</td>\n",
              "      <td>Erkek</td>\n",
              "      <td>Siyah</td>\n",
              "      <td>Evet</td>\n",
              "      <td>Kedi</td>\n",
              "      <td>Rock</td>\n",
              "      <td>İkizler</td>\n",
              "      <td>İlkbahar</td>\n",
              "      <td>Dışadönük</td>\n",
              "      <td>Evet</td>\n",
              "      <td>Evet</td>\n",
              "      <td>Yüzmek</td>\n",
              "    </tr>\n",
              "    <tr>\n",
              "      <th>2</th>\n",
              "      <td>08.05.2022 23:17:50</td>\n",
              "      <td>23</td>\n",
              "      <td>Erkek</td>\n",
              "      <td>Gri</td>\n",
              "      <td>Evet</td>\n",
              "      <td>Kedi</td>\n",
              "      <td>Klasik Müzik</td>\n",
              "      <td>Yengeç</td>\n",
              "      <td>Kış</td>\n",
              "      <td>İçedönük</td>\n",
              "      <td>Evet</td>\n",
              "      <td>Evet</td>\n",
              "      <td>Bisiklet, Kaykay, Paten vb. sürmek</td>\n",
              "    </tr>\n",
              "    <tr>\n",
              "      <th>3</th>\n",
              "      <td>08.05.2022 23:18:51</td>\n",
              "      <td>21</td>\n",
              "      <td>Erkek</td>\n",
              "      <td>Yeşil</td>\n",
              "      <td>Evet</td>\n",
              "      <td>Köpek</td>\n",
              "      <td>Rock</td>\n",
              "      <td>Aslan</td>\n",
              "      <td>İlkbahar</td>\n",
              "      <td>İçedönük</td>\n",
              "      <td>Hayır</td>\n",
              "      <td>Evet</td>\n",
              "      <td>Top ile oynanan (Futbol, Basketbol, Tenis vb.)</td>\n",
              "    </tr>\n",
              "    <tr>\n",
              "      <th>4</th>\n",
              "      <td>08.05.2022 23:19:23</td>\n",
              "      <td>22</td>\n",
              "      <td>Erkek</td>\n",
              "      <td>Mavi</td>\n",
              "      <td>Evet</td>\n",
              "      <td>Köpek</td>\n",
              "      <td>Rock</td>\n",
              "      <td>Başak</td>\n",
              "      <td>İlkbahar</td>\n",
              "      <td>İçedönük</td>\n",
              "      <td>Hayır</td>\n",
              "      <td>Evet</td>\n",
              "      <td>Yüzmek</td>\n",
              "    </tr>\n",
              "    <tr>\n",
              "      <th>...</th>\n",
              "      <td>...</td>\n",
              "      <td>...</td>\n",
              "      <td>...</td>\n",
              "      <td>...</td>\n",
              "      <td>...</td>\n",
              "      <td>...</td>\n",
              "      <td>...</td>\n",
              "      <td>...</td>\n",
              "      <td>...</td>\n",
              "      <td>...</td>\n",
              "      <td>...</td>\n",
              "      <td>...</td>\n",
              "      <td>...</td>\n",
              "    </tr>\n",
              "    <tr>\n",
              "      <th>251</th>\n",
              "      <td>12.05.2022 21:59:39</td>\n",
              "      <td>24</td>\n",
              "      <td>Kadın</td>\n",
              "      <td>Sarı</td>\n",
              "      <td>Evet</td>\n",
              "      <td>Balık</td>\n",
              "      <td>Pop</td>\n",
              "      <td>Başak</td>\n",
              "      <td>Yaz</td>\n",
              "      <td>Dışadönük</td>\n",
              "      <td>Evet</td>\n",
              "      <td>Hayır</td>\n",
              "      <td>Top ile oynanan (Futbol, Basketbol, Tenis vb.)</td>\n",
              "    </tr>\n",
              "    <tr>\n",
              "      <th>252</th>\n",
              "      <td>13.05.2022 09:46:40</td>\n",
              "      <td>22</td>\n",
              "      <td>Erkek</td>\n",
              "      <td>Mavi</td>\n",
              "      <td>Evet</td>\n",
              "      <td>Penguen</td>\n",
              "      <td>Rock</td>\n",
              "      <td>Oğlak</td>\n",
              "      <td>Yaz</td>\n",
              "      <td>İçedönük</td>\n",
              "      <td>Hayır</td>\n",
              "      <td>Evet</td>\n",
              "      <td>Bisiklet, Kaykay, Paten vb. sürmek</td>\n",
              "    </tr>\n",
              "    <tr>\n",
              "      <th>253</th>\n",
              "      <td>13.05.2022 17:30:58</td>\n",
              "      <td>27</td>\n",
              "      <td>Erkek</td>\n",
              "      <td>Turuncu</td>\n",
              "      <td>Evet</td>\n",
              "      <td>Kedi</td>\n",
              "      <td>Rock</td>\n",
              "      <td>Koç</td>\n",
              "      <td>Yaz</td>\n",
              "      <td>Dışadönük</td>\n",
              "      <td>Evet</td>\n",
              "      <td>Evet</td>\n",
              "      <td>Top ile oynanan (Futbol, Basketbol, Tenis vb.)</td>\n",
              "    </tr>\n",
              "    <tr>\n",
              "      <th>254</th>\n",
              "      <td>14.05.2022 10:25:42</td>\n",
              "      <td>18</td>\n",
              "      <td>Kadın</td>\n",
              "      <td>Mavi</td>\n",
              "      <td>Evet</td>\n",
              "      <td>Köpek</td>\n",
              "      <td>Rock</td>\n",
              "      <td>Terazi</td>\n",
              "      <td>Yaz</td>\n",
              "      <td>Dışadönük</td>\n",
              "      <td>Hayır</td>\n",
              "      <td>Evet</td>\n",
              "      <td>Top ile oynanan (Futbol, Basketbol, Tenis vb.)</td>\n",
              "    </tr>\n",
              "    <tr>\n",
              "      <th>255</th>\n",
              "      <td>16.05.2022 13:04:51</td>\n",
              "      <td>22</td>\n",
              "      <td>Kadın</td>\n",
              "      <td>Yeşil</td>\n",
              "      <td>Hayır</td>\n",
              "      <td>Köpek</td>\n",
              "      <td>Pop</td>\n",
              "      <td>Boğa</td>\n",
              "      <td>İlkbahar</td>\n",
              "      <td>Dışadönük</td>\n",
              "      <td>Hayır</td>\n",
              "      <td>Evet</td>\n",
              "      <td>Top ile oynanan (Futbol, Basketbol, Tenis vb.)</td>\n",
              "    </tr>\n",
              "  </tbody>\n",
              "</table>\n",
              "<p>256 rows × 13 columns</p>\n",
              "</div>\n",
              "      <button class=\"colab-df-convert\" onclick=\"convertToInteractive('df-84603609-bfce-4cff-beab-b2f6e986f3d1')\"\n",
              "              title=\"Convert this dataframe to an interactive table.\"\n",
              "              style=\"display:none;\">\n",
              "        \n",
              "  <svg xmlns=\"http://www.w3.org/2000/svg\" height=\"24px\"viewBox=\"0 0 24 24\"\n",
              "       width=\"24px\">\n",
              "    <path d=\"M0 0h24v24H0V0z\" fill=\"none\"/>\n",
              "    <path d=\"M18.56 5.44l.94 2.06.94-2.06 2.06-.94-2.06-.94-.94-2.06-.94 2.06-2.06.94zm-11 1L8.5 8.5l.94-2.06 2.06-.94-2.06-.94L8.5 2.5l-.94 2.06-2.06.94zm10 10l.94 2.06.94-2.06 2.06-.94-2.06-.94-.94-2.06-.94 2.06-2.06.94z\"/><path d=\"M17.41 7.96l-1.37-1.37c-.4-.4-.92-.59-1.43-.59-.52 0-1.04.2-1.43.59L10.3 9.45l-7.72 7.72c-.78.78-.78 2.05 0 2.83L4 21.41c.39.39.9.59 1.41.59.51 0 1.02-.2 1.41-.59l7.78-7.78 2.81-2.81c.8-.78.8-2.07 0-2.86zM5.41 20L4 18.59l7.72-7.72 1.47 1.35L5.41 20z\"/>\n",
              "  </svg>\n",
              "      </button>\n",
              "      \n",
              "  <style>\n",
              "    .colab-df-container {\n",
              "      display:flex;\n",
              "      flex-wrap:wrap;\n",
              "      gap: 12px;\n",
              "    }\n",
              "\n",
              "    .colab-df-convert {\n",
              "      background-color: #E8F0FE;\n",
              "      border: none;\n",
              "      border-radius: 50%;\n",
              "      cursor: pointer;\n",
              "      display: none;\n",
              "      fill: #1967D2;\n",
              "      height: 32px;\n",
              "      padding: 0 0 0 0;\n",
              "      width: 32px;\n",
              "    }\n",
              "\n",
              "    .colab-df-convert:hover {\n",
              "      background-color: #E2EBFA;\n",
              "      box-shadow: 0px 1px 2px rgba(60, 64, 67, 0.3), 0px 1px 3px 1px rgba(60, 64, 67, 0.15);\n",
              "      fill: #174EA6;\n",
              "    }\n",
              "\n",
              "    [theme=dark] .colab-df-convert {\n",
              "      background-color: #3B4455;\n",
              "      fill: #D2E3FC;\n",
              "    }\n",
              "\n",
              "    [theme=dark] .colab-df-convert:hover {\n",
              "      background-color: #434B5C;\n",
              "      box-shadow: 0px 1px 3px 1px rgba(0, 0, 0, 0.15);\n",
              "      filter: drop-shadow(0px 1px 2px rgba(0, 0, 0, 0.3));\n",
              "      fill: #FFFFFF;\n",
              "    }\n",
              "  </style>\n",
              "\n",
              "      <script>\n",
              "        const buttonEl =\n",
              "          document.querySelector('#df-84603609-bfce-4cff-beab-b2f6e986f3d1 button.colab-df-convert');\n",
              "        buttonEl.style.display =\n",
              "          google.colab.kernel.accessAllowed ? 'block' : 'none';\n",
              "\n",
              "        async function convertToInteractive(key) {\n",
              "          const element = document.querySelector('#df-84603609-bfce-4cff-beab-b2f6e986f3d1');\n",
              "          const dataTable =\n",
              "            await google.colab.kernel.invokeFunction('convertToInteractive',\n",
              "                                                     [key], {});\n",
              "          if (!dataTable) return;\n",
              "\n",
              "          const docLinkHtml = 'Like what you see? Visit the ' +\n",
              "            '<a target=\"_blank\" href=https://colab.research.google.com/notebooks/data_table.ipynb>data table notebook</a>'\n",
              "            + ' to learn more about interactive tables.';\n",
              "          element.innerHTML = '';\n",
              "          dataTable['output_type'] = 'display_data';\n",
              "          await google.colab.output.renderOutput(dataTable, element);\n",
              "          const docLink = document.createElement('div');\n",
              "          docLink.innerHTML = docLinkHtml;\n",
              "          element.appendChild(docLink);\n",
              "        }\n",
              "      </script>\n",
              "    </div>\n",
              "  </div>\n",
              "  "
            ]
          },
          "metadata": {},
          "execution_count": 3
        }
      ],
      "source": [
        "df"
      ]
    },
    {
      "cell_type": "code",
      "execution_count": 4,
      "metadata": {
        "id": "PyHXZfPMnR1H"
      },
      "outputs": [],
      "source": [
        "#Timestamp çıkarıldı\n",
        "df = df.drop(\"Zaman damgası\", axis=1)"
      ]
    },
    {
      "cell_type": "code",
      "execution_count": 5,
      "metadata": {
        "id": "25NK8p5I6Ck-"
      },
      "outputs": [],
      "source": [
        "#Null veriler droplandı\n",
        "df = df.dropna()"
      ]
    },
    {
      "cell_type": "code",
      "execution_count": 6,
      "metadata": {
        "colab": {
          "base_uri": "https://localhost:8080/"
        },
        "id": "E86Q0Ez5nVI1",
        "outputId": "b75bee23-0dee-446d-e016-6509a462b459"
      },
      "outputs": [
        {
          "output_type": "stream",
          "name": "stdout",
          "text": [
            "<class 'pandas.core.frame.DataFrame'>\n",
            "Int64Index: 255 entries, 0 to 255\n",
            "Data columns (total 12 columns):\n",
            " #   Column                                                     Non-Null Count  Dtype \n",
            "---  ------                                                     --------------  ----- \n",
            " 0   Yaşınız ?                                                  255 non-null    int64 \n",
            " 1   Cinsiyetiniz ?                                             255 non-null    object\n",
            " 2   Aşağıdaki renklerden en çok hangisini seviyorsunuz ?       255 non-null    object\n",
            " 3   Tütün veya Alkol kullanıyor musunuz ?                      255 non-null    object\n",
            " 4   Aşağıdaki hayvanlardan en çok hangisini seviyorsunuz ?     255 non-null    object\n",
            " 5   Aşağıdaki müzik türlerinden en çok hangisini seviyorsunuz  255 non-null    object\n",
            " 6   Burcunuz ?                                                 255 non-null    object\n",
            " 7   En sevdiğiniz mevsim hangisidir ?                          255 non-null    object\n",
            " 8   Kendinizi nasıl tanımlarsınız?                             255 non-null    object\n",
            " 9   Sevgiliniz veya eşiniz var mı ?                            255 non-null    object\n",
            " 10  Hayal kurmayı sever misiniz ?                              255 non-null    object\n",
            " 11  Aşağıdaki sporlardan en çok hangisini seviyorsunuz ?       255 non-null    object\n",
            "dtypes: int64(1), object(11)\n",
            "memory usage: 25.9+ KB\n"
          ]
        }
      ],
      "source": [
        "#Dataframe hakkında bilgi\n",
        "df.info()"
      ]
    },
    {
      "cell_type": "code",
      "execution_count": 7,
      "metadata": {
        "id": "-DseakW9nbEW",
        "colab": {
          "base_uri": "https://localhost:8080/"
        },
        "outputId": "e847c752-ffc6-40a3-c97f-ff2fc9b32851"
      },
      "outputs": [
        {
          "output_type": "execute_result",
          "data": {
            "text/plain": [
              "['Aşağıdaki renklerden en çok hangisini seviyorsunuz ?',\n",
              " 'Tütün veya Alkol kullanıyor musunuz ?',\n",
              " 'Aşağıdaki hayvanlardan en çok hangisini seviyorsunuz ?',\n",
              " 'Aşağıdaki müzik türlerinden en çok hangisini seviyorsunuz',\n",
              " 'Burcunuz ?',\n",
              " 'En sevdiğiniz mevsim hangisidir ?',\n",
              " 'Kendinizi nasıl tanımlarsınız?',\n",
              " 'Sevgiliniz veya eşiniz var mı ?',\n",
              " 'Hayal kurmayı sever misiniz ?',\n",
              " 'Aşağıdaki sporlardan en çok hangisini seviyorsunuz ?']"
            ]
          },
          "metadata": {},
          "execution_count": 7
        }
      ],
      "source": [
        "#Sütunlar alındı\n",
        "from sklearn.preprocessing import OneHotEncoder\n",
        "columns = list(df.columns)\n",
        "columns = columns[2:]\n",
        "columns"
      ]
    },
    {
      "cell_type": "code",
      "execution_count": 8,
      "metadata": {
        "id": "hQklCPY7nomO"
      },
      "outputs": [],
      "source": [
        "#Sütunlara onehotencoding uygulanarak categorical input işlenebilir duruma geldi.\n",
        "df_ready = pd.DataFrame()\n",
        "for col in columns:\n",
        "    encoder = OneHotEncoder()\n",
        "    onehotarray = encoder.fit_transform(df[[col]]).toarray()\n",
        "    items = [f'{col}_{item}' for item in encoder.categories_[0]]\n",
        "    df_ready[items] = onehotarray"
      ]
    },
    {
      "cell_type": "code",
      "source": [
        "df_ready_norm = df_ready.copy()"
      ],
      "metadata": {
        "id": "6rBVoPWBxWR9"
      },
      "execution_count": 9,
      "outputs": []
    },
    {
      "cell_type": "code",
      "execution_count": 10,
      "metadata": {
        "id": "_asY9HZmptMg"
      },
      "outputs": [],
      "source": [
        "#Cinsiyet için label işlemi. Yaş için ordinal encoding.\n",
        "conditions = [\n",
        "    (df['Cinsiyetiniz ?'] == 'Erkek'),\n",
        "    (df['Cinsiyetiniz ?'] == 'Kadın')\n",
        "    ]\n",
        "\n",
        "values = [0, 1]\n",
        "\n",
        "conditions_2 = [\n",
        "    (df['Yaşınız ?'] <= 20),\n",
        "    (df['Yaşınız ?'] > 20) & (df['Yaşınız ?'] <= 30),\n",
        "    (df['Yaşınız ?'] > 30)\n",
        "    ]\n",
        "\n",
        "values_2 = [0, 1, 2]\n",
        "df['gender'] = np.select(conditions, values)\n",
        "df['age'] = np.select(conditions_2, values_2)\n",
        "df_ready['age'] = np.array(df['age'], dtype=float)\n",
        "df_ready['gender'] = np.array(df['gender'], dtype=float)"
      ]
    },
    {
      "cell_type": "code",
      "source": [
        "#Normalize değerler ile test için\n",
        "from sklearn.preprocessing import MinMaxScaler\n",
        "norm = MinMaxScaler().fit(df[['Yaşınız ?']])\n",
        "df_ready_norm['age']  = norm.transform(df[['Yaşınız ?']])\n",
        "df_ready_norm['gender'] = np.array(df['gender'], dtype=float)"
      ],
      "metadata": {
        "id": "0QEYs2Y5xHfA"
      },
      "execution_count": 11,
      "outputs": []
    },
    {
      "cell_type": "code",
      "execution_count": 12,
      "metadata": {
        "id": "Pn6Il-QFrEeW"
      },
      "outputs": [],
      "source": [
        "#Dataframe shuffle landı.\n",
        "df_ready = df_ready.sample(frac=1).reset_index(drop=True)\n",
        "df_ready_norm = df_ready_norm.sample(frac=1).reset_index(drop=True)"
      ]
    },
    {
      "cell_type": "code",
      "execution_count": 13,
      "metadata": {
        "id": "jJcXW10Irbfu"
      },
      "outputs": [],
      "source": [
        "#Train test Split\n",
        "msk = np.random.rand(len(df_ready)) < 0.8\n",
        "train = df_ready[msk].reset_index(drop=True)\n",
        "test = df_ready[~msk].reset_index(drop=True)\n",
        "\n",
        "train_norm = df_ready_norm[msk].reset_index(drop=True)\n",
        "test_norm = df_ready_norm[~msk].reset_index(drop=True)"
      ]
    },
    {
      "cell_type": "code",
      "execution_count": 14,
      "metadata": {
        "colab": {
          "base_uri": "https://localhost:8080/"
        },
        "id": "apa357gOsHj_",
        "outputId": "1ee0df48-df9c-4858-8bf3-a2a07addbcb3"
      },
      "outputs": [
        {
          "output_type": "execute_result",
          "data": {
            "text/plain": [
              "((210, 58), (45, 58))"
            ]
          },
          "metadata": {},
          "execution_count": 14
        }
      ],
      "source": [
        "train.shape, test.shape"
      ]
    },
    {
      "cell_type": "code",
      "execution_count": 15,
      "metadata": {
        "id": "gMPf_ig2sLfn"
      },
      "outputs": [],
      "source": [
        "x_train, y_train = train[train.columns[:-1]], train[train.columns[-1]]\n",
        "x_test, y_test = test[test.columns[:-1]], test[test.columns[-1]]\n",
        "\n",
        "x_train_norm, y_train_norm = train_norm[train_norm.columns[:-1]], train_norm[train_norm.columns[-1]]\n",
        "x_test_norm, y_test_norm = test_norm[test_norm.columns[:-1]], test_norm[test_norm.columns[-1]]"
      ]
    },
    {
      "cell_type": "code",
      "execution_count": 16,
      "metadata": {
        "id": "mh8Y6nFCpinu"
      },
      "outputs": [],
      "source": [
        "#chi square method\n",
        "from sklearn.feature_selection import SelectKBest\n",
        "from sklearn.feature_selection import chi2\n",
        "fs = SelectKBest(score_func=chi2, k='all')\n",
        "fs.fit(x_train, y_train)\n",
        "X_train_fs = fs.transform(x_train)\n",
        "X_test_fs = fs.transform(x_test)"
      ]
    },
    {
      "cell_type": "code",
      "source": [
        "#Matrix değişmedi bu yöntem etkisiz. O yüzden bu yöntem denenmedi.\n",
        "X_train_fs.shape"
      ],
      "metadata": {
        "colab": {
          "base_uri": "https://localhost:8080/"
        },
        "id": "g42SKLXdqDLc",
        "outputId": "c34b3546-238d-47d7-f6a5-58fbc4020da2"
      },
      "execution_count": 17,
      "outputs": [
        {
          "output_type": "execute_result",
          "data": {
            "text/plain": [
              "(210, 57)"
            ]
          },
          "metadata": {},
          "execution_count": 17
        }
      ]
    },
    {
      "cell_type": "code",
      "source": [
        "#Mutual Information Features\n",
        "from sklearn.feature_selection import mutual_info_classif\n",
        "def mutual_feature_selection(x_train, y_train, x_test, k_var):\n",
        "  fs = SelectKBest(score_func=mutual_info_classif, k=k_var)\n",
        "  fs.fit(x_train, y_train)\n",
        "  X_train_fs = fs.transform(x_train)\n",
        "  X_test_fs = fs.transform(x_test)\n",
        "  return X_train_fs, X_test_fs"
      ],
      "metadata": {
        "id": "yxoDeO6Qq9Pr"
      },
      "execution_count": 18,
      "outputs": []
    },
    {
      "cell_type": "code",
      "execution_count": 19,
      "metadata": {
        "id": "hkG9CxnLtvEG"
      },
      "outputs": [],
      "source": [
        "#grid Search parameters\n",
        "from sklearn.model_selection import GridSearchCV\n",
        "knn_parameters = {'n_neighbors' : (3,4,5,6,7), 'weights' : ('uniform', 'distance'), 'algorithm' : ('ball_tree', 'kd_tree', 'brute')}\n",
        "dt_parameters = {'criterion': ('gini', 'entropy','log_loss'), 'splitter' : ('best', 'random')}\n",
        "compnb_parameters = {'alpha':(0.0, 0.5, 1.0), 'fit_prior':(True, False), 'norm':(True, False)}\n",
        "sgdc_parameters = {'loss':('hinge', 'log_loss', 'log', 'modified_huber', 'squared_hinge', 'perceptron', 'squared_error', 'huber', 'epsilon_insensitive', 'squared_epsilon_insensitive'), 'penalty':['l2', 'l1', 'elasticnet']}\n",
        "gb_paramaeters = {\n",
        "    \"loss\":[\"deviance\"],\n",
        "    \"learning_rate\": [0.2],\n",
        "    \"min_samples_split\": np.linspace(0.2, 1, 4),\n",
        "    \"min_samples_leaf\": [0.1],\n",
        "    \"max_depth\":[8],\n",
        "    \"max_features\":[\"sqrt\"],\n",
        "    \"criterion\": [\"friedman_mse\",  \"mae\"],\n",
        "    \"subsample\":[0.5, 0.618, 0.8, 0.85, 0.9, 0.95, 1.0],\n",
        "    \"n_estimators\":[10]\n",
        "    }\n",
        "    "
      ]
    },
    {
      "cell_type": "code",
      "execution_count": 20,
      "metadata": {
        "id": "71S2nbkQuGyf"
      },
      "outputs": [],
      "source": [
        "#Cross-Validation için\n",
        "from sklearn.model_selection import cross_val_score\n",
        "X = df_ready[df_ready.columns[:-1]]\n",
        "Y = df_ready[df_ready.columns[-1]]\n",
        "\n",
        "X_norm = df_ready[df_ready.columns[:-1]]\n",
        "Y_norm = df_ready[df_ready.columns[-1]]"
      ]
    },
    {
      "cell_type": "code",
      "execution_count": 21,
      "metadata": {
        "colab": {
          "base_uri": "https://localhost:8080/"
        },
        "id": "Dmt8-53wc1eo",
        "outputId": "89058d39-364a-45ce-d731-882b67b32dae"
      },
      "outputs": [
        {
          "output_type": "stream",
          "name": "stdout",
          "text": [
            "For method SGDClassifier, accuracy : 0.6 - best_params : {'loss': 'perceptron', 'penalty': 'l1'}, cross_val : 0.6470588235294118\n",
            "For method Complement Bayes, accuracy : 0.6666666666666666 - best_params : {'alpha': 1.0, 'fit_prior': True, 'norm': True}, cross_val : 0.7294117647058823\n",
            "For method Decision Tree, accuracy : 0.6 - best_params : {'criterion': 'gini', 'splitter': 'best'}, cross_val : 0.6980392156862745\n",
            "For method Knn, accuracy : 0.6666666666666666 - best_params : {'algorithm': 'kd_tree', 'n_neighbors': 7, 'weights': 'uniform'}, cross_val : 0.7490196078431373\n",
            "For method Gradient Boosting, accuracy : 0.6444444444444445 - best_params : {'criterion': 'friedman_mse', 'learning_rate': 0.2, 'loss': 'deviance', 'max_depth': 8, 'max_features': 'sqrt', 'min_samples_leaf': 0.1, 'min_samples_split': 0.2, 'n_estimators': 10, 'subsample': 1.0}, cross_val : 0.7215686274509804\n"
          ]
        }
      ],
      "source": [
        "#Normal sonuçlar.\n",
        "\n",
        "methods = {'SGDClassifier' : [sgdc_parameters, SGDClassifier()],\n",
        "           'Complement Bayes' : [compnb_parameters, ComplementNB()],\n",
        "           'Decision Tree': [dt_parameters , tree.DecisionTreeClassifier()],\n",
        "           'Knn' : [knn_parameters, KNeighborsClassifier()],\n",
        "           'Gradient Boosting':[gb_paramaeters, GradientBoostingClassifier()]\n",
        "           }\n",
        "\n",
        "#Modelleri daha sonra kullanmak için saklama listesi\n",
        "models = []\n",
        "\n",
        "for i in methods:\n",
        "    gs_clf = GridSearchCV(methods[i][1], methods[i][0])\n",
        "    gs_clf.fit(x_train, y_train)\n",
        "    y_predict = gs_clf.predict(x_test)\n",
        "    models.append(gs_clf)\n",
        "    cm = confusion_matrix(y_test, y_predict)\n",
        "    acc = accuracy_score(y_test, y_predict)\n",
        "    print(f\"For method {i}, accuracy : {acc} - best_params : {gs_clf.best_params_}, cross_val : {cross_val_score(gs_clf, X, Y, cv=5).mean()}\")"
      ]
    },
    {
      "cell_type": "code",
      "execution_count": 22,
      "metadata": {
        "colab": {
          "base_uri": "https://localhost:8080/"
        },
        "id": "sxZhzcCa4GuJ",
        "outputId": "243738ec-8ede-4fe1-a0cc-254f0e184c70"
      },
      "outputs": [
        {
          "output_type": "stream",
          "name": "stdout",
          "text": [
            "For method SGDClassifier, accuracy : 0.6851851851851852 - best_params : {'loss': 'hinge', 'penalty': 'elasticnet'}, cross_val : 0.6862745098039216\n",
            "For method Complement Bayes, accuracy : 0.7037037037037037 - best_params : {'alpha': 1.0, 'fit_prior': True, 'norm': False}, cross_val : 0.7098039215686274\n",
            "For method Decision Tree, accuracy : 0.7037037037037037 - best_params : {'criterion': 'entropy', 'splitter': 'best'}, cross_val : 0.6549019607843137\n",
            "For method Knn, accuracy : 0.7407407407407407 - best_params : {'algorithm': 'brute', 'n_neighbors': 7, 'weights': 'uniform'}, cross_val : 0.7215686274509803\n",
            "For method Gradient Boosting, accuracy : 0.7037037037037037 - best_params : {'criterion': 'friedman_mse', 'learning_rate': 0.2, 'loss': 'deviance', 'max_depth': 8, 'max_features': 'sqrt', 'min_samples_leaf': 0.1, 'min_samples_split': 0.2, 'n_estimators': 10, 'subsample': 0.85}, cross_val : 0.7098039215686275\n"
          ]
        }
      ],
      "source": [
        "#Normalize\n",
        "methods = {'SGDClassifier' : [sgdc_parameters, SGDClassifier()],\n",
        "           'Complement Bayes' : [compnb_parameters, ComplementNB()],\n",
        "           'Decision Tree': [dt_parameters , tree.DecisionTreeClassifier()],\n",
        "           'Knn' : [knn_parameters, KNeighborsClassifier()],\n",
        "           'Gradient Boosting':[gb_paramaeters, GradientBoostingClassifier()]\n",
        "           }\n",
        "\n",
        "for i in methods:\n",
        "    gs_clf = GridSearchCV(methods[i][1], methods[i][0])\n",
        "    gs_clf.fit(x_train_norm, y_train_norm)\n",
        "    y_predict = gs_clf.predict(x_test_norm)\n",
        "    cm = confusion_matrix(y_test_norm, y_predict)\n",
        "    acc = accuracy_score(y_test_norm, y_predict)\n",
        "    print(f\"For method {i}, accuracy : {acc} - best_params : {gs_clf.best_params_}, cross_val : {cross_val_score(gs_clf, X_norm, Y_norm, cv=5).mean()}\")"
      ]
    },
    {
      "cell_type": "code",
      "execution_count": 47,
      "metadata": {
        "id": "zUMPV93ycqYs",
        "colab": {
          "base_uri": "https://localhost:8080/"
        },
        "outputId": "ff712413-a657-4459-a3a2-ca38c771c5ef"
      },
      "outputs": [
        {
          "output_type": "stream",
          "name": "stdout",
          "text": [
            " **** Best 15 feature ****\n",
            "For method SGDClassifier, accuracy : 0.6730769230769231 - best_params : {'loss': 'log', 'penalty': 'elasticnet'}, cross_val : 0.6784313725490196\n",
            "For method Complement Bayes, accuracy : 0.6730769230769231 - best_params : {'alpha': 0.5, 'fit_prior': True, 'norm': True}, cross_val : 0.7098039215686274\n",
            "For method Decision Tree, accuracy : 0.6538461538461539 - best_params : {'criterion': 'gini', 'splitter': 'best'}, cross_val : 0.6392156862745096\n",
            "For method Knn, accuracy : 0.6538461538461539 - best_params : {'algorithm': 'brute', 'n_neighbors': 5, 'weights': 'uniform'}, cross_val : 0.7098039215686275\n",
            "For method Gradient Boosting, accuracy : 0.7307692307692307 - best_params : {'criterion': 'mae', 'learning_rate': 0.2, 'loss': 'deviance', 'max_depth': 8, 'max_features': 'sqrt', 'min_samples_leaf': 0.1, 'min_samples_split': 0.2, 'n_estimators': 10, 'subsample': 1.0}, cross_val : 0.7411764705882352\n",
            " **** Best 20 feature ****\n",
            "For method SGDClassifier, accuracy : 0.7115384615384616 - best_params : {'loss': 'huber', 'penalty': 'l1'}, cross_val : 0.6784313725490195\n",
            "For method Complement Bayes, accuracy : 0.7115384615384616 - best_params : {'alpha': 1.0, 'fit_prior': True, 'norm': False}, cross_val : 0.7098039215686274\n",
            "For method Decision Tree, accuracy : 0.75 - best_params : {'criterion': 'entropy', 'splitter': 'best'}, cross_val : 0.6705882352941177\n",
            "For method Knn, accuracy : 0.7307692307692307 - best_params : {'algorithm': 'brute', 'n_neighbors': 7, 'weights': 'uniform'}, cross_val : 0.7098039215686275\n",
            "For method Gradient Boosting, accuracy : 0.7115384615384616 - best_params : {'criterion': 'friedman_mse', 'learning_rate': 0.2, 'loss': 'deviance', 'max_depth': 8, 'max_features': 'sqrt', 'min_samples_leaf': 0.1, 'min_samples_split': 0.7333333333333334, 'n_estimators': 10, 'subsample': 0.85}, cross_val : 0.7490196078431373\n",
            " **** Best 25 feature ****\n",
            "For method SGDClassifier, accuracy : 0.75 - best_params : {'loss': 'perceptron', 'penalty': 'l2'}, cross_val : 0.6862745098039216\n",
            "For method Complement Bayes, accuracy : 0.7115384615384616 - best_params : {'alpha': 0.5, 'fit_prior': True, 'norm': False}, cross_val : 0.7098039215686274\n",
            "For method Decision Tree, accuracy : 0.6923076923076923 - best_params : {'criterion': 'gini', 'splitter': 'best'}, cross_val : 0.6549019607843137\n",
            "For method Knn, accuracy : 0.6923076923076923 - best_params : {'algorithm': 'kd_tree', 'n_neighbors': 5, 'weights': 'distance'}, cross_val : 0.7098039215686275\n",
            "For method Gradient Boosting, accuracy : 0.7115384615384616 - best_params : {'criterion': 'friedman_mse', 'learning_rate': 0.2, 'loss': 'deviance', 'max_depth': 8, 'max_features': 'sqrt', 'min_samples_leaf': 0.1, 'min_samples_split': 0.4666666666666667, 'n_estimators': 10, 'subsample': 0.9}, cross_val : 0.7568627450980392\n",
            " **** Best 30 feature ****\n",
            "For method SGDClassifier, accuracy : 0.7307692307692307 - best_params : {'loss': 'log', 'penalty': 'l2'}, cross_val : 0.6862745098039216\n",
            "For method Complement Bayes, accuracy : 0.6923076923076923 - best_params : {'alpha': 1.0, 'fit_prior': True, 'norm': False}, cross_val : 0.7098039215686274\n",
            "For method Decision Tree, accuracy : 0.5384615384615384 - best_params : {'criterion': 'gini', 'splitter': 'best'}, cross_val : 0.6392156862745099\n",
            "For method Knn, accuracy : 0.6730769230769231 - best_params : {'algorithm': 'brute', 'n_neighbors': 4, 'weights': 'distance'}, cross_val : 0.7098039215686275\n",
            "For method Gradient Boosting, accuracy : 0.7692307692307693 - best_params : {'criterion': 'friedman_mse', 'learning_rate': 0.2, 'loss': 'deviance', 'max_depth': 8, 'max_features': 'sqrt', 'min_samples_leaf': 0.1, 'min_samples_split': 0.2, 'n_estimators': 10, 'subsample': 0.9}, cross_val : 0.7254901960784313\n",
            " **** Best 35 feature ****\n",
            "For method SGDClassifier, accuracy : 0.7115384615384616 - best_params : {'loss': 'modified_huber', 'penalty': 'l2'}, cross_val : 0.6705882352941176\n",
            "For method Complement Bayes, accuracy : 0.6730769230769231 - best_params : {'alpha': 1.0, 'fit_prior': True, 'norm': True}, cross_val : 0.7098039215686274\n",
            "For method Decision Tree, accuracy : 0.6538461538461539 - best_params : {'criterion': 'entropy', 'splitter': 'random'}, cross_val : 0.6509803921568628\n",
            "For method Knn, accuracy : 0.7884615384615384 - best_params : {'algorithm': 'brute', 'n_neighbors': 7, 'weights': 'uniform'}, cross_val : 0.7098039215686275\n",
            "For method Gradient Boosting, accuracy : 0.7115384615384616 - best_params : {'criterion': 'mae', 'learning_rate': 0.2, 'loss': 'deviance', 'max_depth': 8, 'max_features': 'sqrt', 'min_samples_leaf': 0.1, 'min_samples_split': 0.2, 'n_estimators': 10, 'subsample': 0.8}, cross_val : 0.7058823529411765\n",
            " **** Best 40 feature ****\n",
            "For method SGDClassifier, accuracy : 0.7307692307692307 - best_params : {'loss': 'squared_hinge', 'penalty': 'l2'}, cross_val : 0.6823529411764706\n",
            "For method Complement Bayes, accuracy : 0.7115384615384616 - best_params : {'alpha': 0.5, 'fit_prior': True, 'norm': False}, cross_val : 0.7098039215686274\n",
            "For method Decision Tree, accuracy : 0.6730769230769231 - best_params : {'criterion': 'gini', 'splitter': 'random'}, cross_val : 0.6549019607843137\n",
            "For method Knn, accuracy : 0.8461538461538461 - best_params : {'algorithm': 'ball_tree', 'n_neighbors': 4, 'weights': 'uniform'}, cross_val : 0.7098039215686275\n",
            "For method Gradient Boosting, accuracy : 0.6923076923076923 - best_params : {'criterion': 'friedman_mse', 'learning_rate': 0.2, 'loss': 'deviance', 'max_depth': 8, 'max_features': 'sqrt', 'min_samples_leaf': 0.1, 'min_samples_split': 0.4666666666666667, 'n_estimators': 10, 'subsample': 0.5}, cross_val : 0.7411764705882352\n",
            " **** Best 45 feature ****\n",
            "For method SGDClassifier, accuracy : 0.5769230769230769 - best_params : {'loss': 'hinge', 'penalty': 'l2'}, cross_val : 0.6823529411764706\n",
            "For method Complement Bayes, accuracy : 0.7115384615384616 - best_params : {'alpha': 0.5, 'fit_prior': True, 'norm': False}, cross_val : 0.7098039215686274\n",
            "For method Decision Tree, accuracy : 0.6346153846153846 - best_params : {'criterion': 'gini', 'splitter': 'random'}, cross_val : 0.6431372549019608\n",
            "For method Knn, accuracy : 0.7307692307692307 - best_params : {'algorithm': 'kd_tree', 'n_neighbors': 6, 'weights': 'uniform'}, cross_val : 0.7098039215686275\n",
            "For method Gradient Boosting, accuracy : 0.7307692307692307 - best_params : {'criterion': 'friedman_mse', 'learning_rate': 0.2, 'loss': 'deviance', 'max_depth': 8, 'max_features': 'sqrt', 'min_samples_leaf': 0.1, 'min_samples_split': 0.2, 'n_estimators': 10, 'subsample': 0.9}, cross_val : 0.7254901960784315\n"
          ]
        }
      ],
      "source": [
        "#mutual feature selection\n",
        "methods = {'SGDClassifier' : [sgdc_parameters, SGDClassifier()],\n",
        "           'Complement Bayes' : [compnb_parameters, ComplementNB()],\n",
        "           'Decision Tree': [dt_parameters , tree.DecisionTreeClassifier()],\n",
        "           'Knn' : [knn_parameters, KNeighborsClassifier()],\n",
        "           'Gradient Boosting':[gb_paramaeters, GradientBoostingClassifier()]\n",
        "           }\n",
        "\n",
        "for k_var in range(15,50,5):\n",
        "  X_train_fs, X_test_fs = mutual_feature_selection(x_train, y_train, x_test, k_var)\n",
        "  print(f\" **** Best {k_var} feature ****\")\n",
        "  for i in methods:\n",
        "      gs_clf = GridSearchCV(methods[i][1], methods[i][0])\n",
        "      gs_clf.fit(X_train_fs, y_train)\n",
        "      y_predict = gs_clf.predict(X_test_fs)\n",
        "      cm = confusion_matrix(y_test, y_predict)\n",
        "      acc = accuracy_score(y_test, y_predict)\n",
        "      print(f\"For method {i}, accuracy : {acc} - best_params : {gs_clf.best_params_}, cross_val : {cross_val_score(gs_clf, X, Y, cv=5).mean()}\")\n",
        "     "
      ]
    },
    {
      "cell_type": "code",
      "source": [
        "#mutual feature selection\n",
        "methods = {'SGDClassifier' : [sgdc_parameters, SGDClassifier()],\n",
        "           'Complement Bayes' : [compnb_parameters, ComplementNB()],\n",
        "           'Decision Tree': [dt_parameters , tree.DecisionTreeClassifier()],\n",
        "           'Knn' : [knn_parameters, KNeighborsClassifier()],\n",
        "           'Gradient Boosting':[gb_paramaeters, GradientBoostingClassifier()]\n",
        "           }\n",
        "\n",
        "for k_var in range(2,15,1):\n",
        "  X_train_fs, X_test_fs = mutual_feature_selection(x_train, y_train, x_test, k_var)\n",
        "  print(f\" **** Best {k_var} feature ****\")\n",
        "  for i in methods:\n",
        "      gs_clf = GridSearchCV(methods[i][1], methods[i][0])\n",
        "      gs_clf.fit(X_train_fs, y_train)\n",
        "      y_predict = gs_clf.predict(X_test_fs)\n",
        "      cm = confusion_matrix(y_test, y_predict)\n",
        "      acc = accuracy_score(y_test, y_predict)\n",
        "      print(f\"For method {i}, accuracy : {acc} - best_params : {gs_clf.best_params_}, cross_val : {cross_val_score(gs_clf, X, Y, cv=5).mean()}\")"
      ],
      "metadata": {
        "colab": {
          "base_uri": "https://localhost:8080/"
        },
        "id": "gVg9hz7T0qLD",
        "outputId": "3071fbcd-638c-4ddc-db3f-59b9cbcd2b3b"
      },
      "execution_count": 23,
      "outputs": [
        {
          "output_type": "stream",
          "name": "stdout",
          "text": [
            " **** Best 2 feature ****\n",
            "For method SGDClassifier, accuracy : 0.6481481481481481 - best_params : {'loss': 'log', 'penalty': 'elasticnet'}, cross_val : 0.6666666666666667\n",
            "For method Complement Bayes, accuracy : 0.6111111111111112 - best_params : {'alpha': 0.0, 'fit_prior': True, 'norm': False}, cross_val : 0.7098039215686274\n",
            "For method Decision Tree, accuracy : 0.6666666666666666 - best_params : {'criterion': 'gini', 'splitter': 'best'}, cross_val : 0.6862745098039216\n",
            "For method Knn, accuracy : 0.6666666666666666 - best_params : {'algorithm': 'ball_tree', 'n_neighbors': 6, 'weights': 'uniform'}, cross_val : 0.7215686274509803\n",
            "For method Gradient Boosting, accuracy : 0.6666666666666666 - best_params : {'criterion': 'friedman_mse', 'learning_rate': 0.2, 'loss': 'deviance', 'max_depth': 8, 'max_features': 'sqrt', 'min_samples_leaf': 0.1, 'min_samples_split': 0.2, 'n_estimators': 10, 'subsample': 0.5}, cross_val : 0.7254901960784312\n",
            " **** Best 3 feature ****\n",
            "For method SGDClassifier, accuracy : 0.7037037037037037 - best_params : {'loss': 'huber', 'penalty': 'l1'}, cross_val : 0.6745098039215686\n",
            "For method Complement Bayes, accuracy : 0.3148148148148148 - best_params : {'alpha': 0.0, 'fit_prior': True, 'norm': False}, cross_val : 0.7098039215686274\n",
            "For method Decision Tree, accuracy : 0.7037037037037037 - best_params : {'criterion': 'gini', 'splitter': 'best'}, cross_val : 0.6941176470588235\n",
            "For method Knn, accuracy : 0.7037037037037037 - best_params : {'algorithm': 'ball_tree', 'n_neighbors': 6, 'weights': 'distance'}, cross_val : 0.7215686274509803\n",
            "For method Gradient Boosting, accuracy : 0.5740740740740741 - best_params : {'criterion': 'friedman_mse', 'learning_rate': 0.2, 'loss': 'deviance', 'max_depth': 8, 'max_features': 'sqrt', 'min_samples_leaf': 0.1, 'min_samples_split': 0.2, 'n_estimators': 10, 'subsample': 0.8}, cross_val : 0.7294117647058824\n",
            " **** Best 4 feature ****\n",
            "For method SGDClassifier, accuracy : 0.7037037037037037 - best_params : {'loss': 'huber', 'penalty': 'l2'}, cross_val : 0.6823529411764706\n",
            "For method Complement Bayes, accuracy : 0.6666666666666666 - best_params : {'alpha': 0.0, 'fit_prior': True, 'norm': False}, cross_val : 0.7098039215686274\n",
            "For method Decision Tree, accuracy : 0.6666666666666666 - best_params : {'criterion': 'gini', 'splitter': 'best'}, cross_val : 0.6823529411764706\n",
            "For method Knn, accuracy : 0.6666666666666666 - best_params : {'algorithm': 'ball_tree', 'n_neighbors': 3, 'weights': 'uniform'}, cross_val : 0.7215686274509803\n",
            "For method Gradient Boosting, accuracy : 0.7037037037037037 - best_params : {'criterion': 'mae', 'learning_rate': 0.2, 'loss': 'deviance', 'max_depth': 8, 'max_features': 'sqrt', 'min_samples_leaf': 0.1, 'min_samples_split': 0.7333333333333334, 'n_estimators': 10, 'subsample': 1.0}, cross_val : 0.7137254901960783\n",
            " **** Best 5 feature ****\n",
            "For method SGDClassifier, accuracy : 0.7037037037037037 - best_params : {'loss': 'log', 'penalty': 'elasticnet'}, cross_val : 0.6980392156862745\n",
            "For method Complement Bayes, accuracy : 0.7037037037037037 - best_params : {'alpha': 0.0, 'fit_prior': True, 'norm': True}, cross_val : 0.7098039215686274\n",
            "For method Decision Tree, accuracy : 0.6666666666666666 - best_params : {'criterion': 'gini', 'splitter': 'best'}, cross_val : 0.6901960784313725\n",
            "For method Knn, accuracy : 0.5925925925925926 - best_params : {'algorithm': 'brute', 'n_neighbors': 6, 'weights': 'uniform'}, cross_val : 0.7215686274509803\n",
            "For method Gradient Boosting, accuracy : 0.7037037037037037 - best_params : {'criterion': 'friedman_mse', 'learning_rate': 0.2, 'loss': 'deviance', 'max_depth': 8, 'max_features': 'sqrt', 'min_samples_leaf': 0.1, 'min_samples_split': 0.2, 'n_estimators': 10, 'subsample': 0.95}, cross_val : 0.7411764705882353\n",
            " **** Best 6 feature ****\n",
            "For method SGDClassifier, accuracy : 0.7037037037037037 - best_params : {'loss': 'huber', 'penalty': 'l1'}, cross_val : 0.6666666666666667\n",
            "For method Complement Bayes, accuracy : 0.6851851851851852 - best_params : {'alpha': 1.0, 'fit_prior': True, 'norm': True}, cross_val : 0.7098039215686274\n",
            "For method Decision Tree, accuracy : 0.6296296296296297 - best_params : {'criterion': 'gini', 'splitter': 'best'}, cross_val : 0.6941176470588235\n",
            "For method Knn, accuracy : 0.5925925925925926 - best_params : {'algorithm': 'kd_tree', 'n_neighbors': 3, 'weights': 'uniform'}, cross_val : 0.7215686274509803\n",
            "For method Gradient Boosting, accuracy : 0.6666666666666666 - best_params : {'criterion': 'friedman_mse', 'learning_rate': 0.2, 'loss': 'deviance', 'max_depth': 8, 'max_features': 'sqrt', 'min_samples_leaf': 0.1, 'min_samples_split': 0.7333333333333334, 'n_estimators': 10, 'subsample': 0.95}, cross_val : 0.7294117647058823\n",
            " **** Best 7 feature ****\n",
            "For method SGDClassifier, accuracy : 0.5740740740740741 - best_params : {'loss': 'log', 'penalty': 'l2'}, cross_val : 0.6588235294117647\n",
            "For method Complement Bayes, accuracy : 0.6296296296296297 - best_params : {'alpha': 0.5, 'fit_prior': True, 'norm': False}, cross_val : 0.7098039215686274\n",
            "For method Decision Tree, accuracy : 0.6296296296296297 - best_params : {'criterion': 'gini', 'splitter': 'best'}, cross_val : 0.7137254901960784\n",
            "For method Knn, accuracy : 0.6481481481481481 - best_params : {'algorithm': 'brute', 'n_neighbors': 5, 'weights': 'uniform'}, cross_val : 0.7215686274509803\n",
            "For method Gradient Boosting, accuracy : 0.6111111111111112 - best_params : {'criterion': 'friedman_mse', 'learning_rate': 0.2, 'loss': 'deviance', 'max_depth': 8, 'max_features': 'sqrt', 'min_samples_leaf': 0.1, 'min_samples_split': 0.7333333333333334, 'n_estimators': 10, 'subsample': 0.8}, cross_val : 0.7254901960784313\n",
            " **** Best 8 feature ****\n",
            "For method SGDClassifier, accuracy : 0.6851851851851852 - best_params : {'loss': 'log', 'penalty': 'l2'}, cross_val : 0.6274509803921569\n",
            "For method Complement Bayes, accuracy : 0.6666666666666666 - best_params : {'alpha': 0.0, 'fit_prior': True, 'norm': False}, cross_val : 0.7098039215686274\n",
            "For method Decision Tree, accuracy : 0.6851851851851852 - best_params : {'criterion': 'gini', 'splitter': 'random'}, cross_val : 0.6980392156862745\n",
            "For method Knn, accuracy : 0.6851851851851852 - best_params : {'algorithm': 'brute', 'n_neighbors': 4, 'weights': 'distance'}, cross_val : 0.7215686274509803\n",
            "For method Gradient Boosting, accuracy : 0.6481481481481481 - best_params : {'criterion': 'friedman_mse', 'learning_rate': 0.2, 'loss': 'deviance', 'max_depth': 8, 'max_features': 'sqrt', 'min_samples_leaf': 0.1, 'min_samples_split': 0.2, 'n_estimators': 10, 'subsample': 0.95}, cross_val : 0.7176470588235293\n",
            " **** Best 9 feature ****\n",
            "For method SGDClassifier, accuracy : 0.7037037037037037 - best_params : {'loss': 'modified_huber', 'penalty': 'l1'}, cross_val : 0.6784313725490196\n",
            "For method Complement Bayes, accuracy : 0.5740740740740741 - best_params : {'alpha': 0.0, 'fit_prior': True, 'norm': False}, cross_val : 0.7098039215686274\n",
            "For method Decision Tree, accuracy : 0.5925925925925926 - best_params : {'criterion': 'gini', 'splitter': 'best'}, cross_val : 0.6784313725490196\n",
            "For method Knn, accuracy : 0.6481481481481481 - best_params : {'algorithm': 'kd_tree', 'n_neighbors': 7, 'weights': 'uniform'}, cross_val : 0.7215686274509803\n",
            "For method Gradient Boosting, accuracy : 0.6481481481481481 - best_params : {'criterion': 'friedman_mse', 'learning_rate': 0.2, 'loss': 'deviance', 'max_depth': 8, 'max_features': 'sqrt', 'min_samples_leaf': 0.1, 'min_samples_split': 0.2, 'n_estimators': 10, 'subsample': 0.618}, cross_val : 0.7411764705882353\n",
            " **** Best 10 feature ****\n",
            "For method SGDClassifier, accuracy : 0.6296296296296297 - best_params : {'loss': 'log', 'penalty': 'l2'}, cross_val : 0.6470588235294118\n",
            "For method Complement Bayes, accuracy : 0.6111111111111112 - best_params : {'alpha': 0.0, 'fit_prior': True, 'norm': False}, cross_val : 0.7098039215686274\n",
            "For method Decision Tree, accuracy : 0.6666666666666666 - best_params : {'criterion': 'entropy', 'splitter': 'best'}, cross_val : 0.6666666666666667\n",
            "For method Knn, accuracy : 0.6851851851851852 - best_params : {'algorithm': 'brute', 'n_neighbors': 7, 'weights': 'distance'}, cross_val : 0.7215686274509803\n",
            "For method Gradient Boosting, accuracy : 0.6666666666666666 - best_params : {'criterion': 'friedman_mse', 'learning_rate': 0.2, 'loss': 'deviance', 'max_depth': 8, 'max_features': 'sqrt', 'min_samples_leaf': 0.1, 'min_samples_split': 0.7333333333333334, 'n_estimators': 10, 'subsample': 0.95}, cross_val : 0.7607843137254903\n",
            " **** Best 11 feature ****\n",
            "For method SGDClassifier, accuracy : 0.6666666666666666 - best_params : {'loss': 'hinge', 'penalty': 'l1'}, cross_val : 0.6509803921568628\n",
            "For method Complement Bayes, accuracy : 0.6481481481481481 - best_params : {'alpha': 0.5, 'fit_prior': True, 'norm': False}, cross_val : 0.7098039215686274\n",
            "For method Decision Tree, accuracy : 0.6111111111111112 - best_params : {'criterion': 'entropy', 'splitter': 'random'}, cross_val : 0.6941176470588235\n",
            "For method Knn, accuracy : 0.6111111111111112 - best_params : {'algorithm': 'brute', 'n_neighbors': 7, 'weights': 'uniform'}, cross_val : 0.7215686274509803\n",
            "For method Gradient Boosting, accuracy : 0.7037037037037037 - best_params : {'criterion': 'friedman_mse', 'learning_rate': 0.2, 'loss': 'deviance', 'max_depth': 8, 'max_features': 'sqrt', 'min_samples_leaf': 0.1, 'min_samples_split': 0.2, 'n_estimators': 10, 'subsample': 0.9}, cross_val : 0.7254901960784312\n",
            " **** Best 12 feature ****\n",
            "For method SGDClassifier, accuracy : 0.6666666666666666 - best_params : {'loss': 'hinge', 'penalty': 'elasticnet'}, cross_val : 0.6941176470588235\n",
            "For method Complement Bayes, accuracy : 0.6111111111111112 - best_params : {'alpha': 0.0, 'fit_prior': True, 'norm': False}, cross_val : 0.7098039215686274\n",
            "For method Decision Tree, accuracy : 0.5740740740740741 - best_params : {'criterion': 'gini', 'splitter': 'best'}, cross_val : 0.6862745098039216\n",
            "For method Knn, accuracy : 0.6111111111111112 - best_params : {'algorithm': 'brute', 'n_neighbors': 7, 'weights': 'uniform'}, cross_val : 0.7215686274509803\n",
            "For method Gradient Boosting, accuracy : 0.6481481481481481 - best_params : {'criterion': 'friedman_mse', 'learning_rate': 0.2, 'loss': 'deviance', 'max_depth': 8, 'max_features': 'sqrt', 'min_samples_leaf': 0.1, 'min_samples_split': 0.7333333333333334, 'n_estimators': 10, 'subsample': 1.0}, cross_val : 0.7333333333333334\n",
            " **** Best 13 feature ****\n",
            "For method SGDClassifier, accuracy : 0.6111111111111112 - best_params : {'loss': 'squared_hinge', 'penalty': 'l2'}, cross_val : 0.6823529411764705\n",
            "For method Complement Bayes, accuracy : 0.6481481481481481 - best_params : {'alpha': 1.0, 'fit_prior': True, 'norm': False}, cross_val : 0.7098039215686274\n",
            "For method Decision Tree, accuracy : 0.6851851851851852 - best_params : {'criterion': 'gini', 'splitter': 'best'}, cross_val : 0.7019607843137254\n",
            "For method Knn, accuracy : 0.6851851851851852 - best_params : {'algorithm': 'kd_tree', 'n_neighbors': 7, 'weights': 'distance'}, cross_val : 0.7215686274509803\n",
            "For method Gradient Boosting, accuracy : 0.6851851851851852 - best_params : {'criterion': 'mae', 'learning_rate': 0.2, 'loss': 'deviance', 'max_depth': 8, 'max_features': 'sqrt', 'min_samples_leaf': 0.1, 'min_samples_split': 0.7333333333333334, 'n_estimators': 10, 'subsample': 0.8}, cross_val : 0.7372549019607842\n",
            " **** Best 14 feature ****\n",
            "For method SGDClassifier, accuracy : 0.5925925925925926 - best_params : {'loss': 'squared_hinge', 'penalty': 'l2'}, cross_val : 0.6588235294117647\n",
            "For method Complement Bayes, accuracy : 0.6851851851851852 - best_params : {'alpha': 0.0, 'fit_prior': True, 'norm': True}, cross_val : 0.7098039215686274\n",
            "For method Decision Tree, accuracy : 0.6666666666666666 - best_params : {'criterion': 'gini', 'splitter': 'random'}, cross_val : 0.6784313725490196\n",
            "For method Knn, accuracy : 0.7222222222222222 - best_params : {'algorithm': 'ball_tree', 'n_neighbors': 6, 'weights': 'uniform'}, cross_val : 0.7215686274509803\n",
            "For method Gradient Boosting, accuracy : 0.6666666666666666 - best_params : {'criterion': 'friedman_mse', 'learning_rate': 0.2, 'loss': 'deviance', 'max_depth': 8, 'max_features': 'sqrt', 'min_samples_leaf': 0.1, 'min_samples_split': 0.2, 'n_estimators': 10, 'subsample': 0.95}, cross_val : 0.7254901960784313\n"
          ]
        }
      ]
    },
    {
      "cell_type": "code",
      "source": [
        "#Yukarıdaki bütün sonuçları incelediğimizde ortalama 0.70-0.75 arasında dolaştığını görüyoruz.\n",
        "#Modelleri Ensemble Learning ile Oylama mantığında birleştirelim.\n",
        "#5 modelden aynı 3 oy geçerli tahmin olarak kabul edilecektir.\n",
        "\n",
        "preds = []\n",
        "for model in models:\n",
        "  preds.append(model.predict(x_test))"
      ],
      "metadata": {
        "id": "GnPNN93Iul30"
      },
      "execution_count": 22,
      "outputs": []
    },
    {
      "cell_type": "code",
      "source": [
        "preds"
      ],
      "metadata": {
        "colab": {
          "base_uri": "https://localhost:8080/"
        },
        "id": "cmr7cS6U3a1Z",
        "outputId": "7dbc42ae-98bf-45cc-97e8-8421e4d13861"
      },
      "execution_count": 23,
      "outputs": [
        {
          "output_type": "execute_result",
          "data": {
            "text/plain": [
              "[array([0., 1., 0., 0., 1., 0., 1., 1., 1., 0., 1., 1., 1., 0., 1., 1., 1.,\n",
              "        1., 1., 1., 0., 0., 0., 1., 1., 0., 1., 1., 0., 1., 1., 1., 1., 0.,\n",
              "        0., 1., 0., 1., 1., 1., 1., 0., 0., 0., 1.]),\n",
              " array([0., 1., 0., 0., 1., 0., 1., 0., 0., 0., 1., 0., 1., 0., 1., 1., 1.,\n",
              "        0., 0., 1., 0., 0., 0., 1., 1., 0., 1., 0., 1., 0., 1., 1., 1., 1.,\n",
              "        1., 1., 0., 0., 1., 1., 1., 0., 0., 0., 1.]),\n",
              " array([1., 0., 0., 0., 1., 0., 1., 1., 0., 1., 1., 0., 1., 0., 0., 1., 1.,\n",
              "        1., 0., 1., 0., 1., 0., 0., 1., 0., 0., 1., 0., 0., 0., 1., 0., 0.,\n",
              "        1., 1., 0., 1., 1., 1., 0., 0., 1., 0., 1.]),\n",
              " array([0., 1., 1., 0., 1., 0., 1., 0., 0., 1., 1., 1., 1., 0., 1., 1., 1.,\n",
              "        1., 1., 1., 0., 0., 0., 1., 1., 0., 1., 1., 1., 1., 1., 1., 1., 1.,\n",
              "        1., 1., 0., 1., 1., 1., 1., 0., 0., 0., 1.]),\n",
              " array([0., 1., 0., 0., 1., 0., 1., 1., 0., 0., 1., 0., 1., 0., 1., 1., 1.,\n",
              "        0., 0., 1., 0., 0., 0., 1., 1., 0., 1., 1., 1., 1., 1., 1., 1., 0.,\n",
              "        1., 1., 0., 1., 1., 1., 1., 0., 0., 0., 1.])]"
            ]
          },
          "metadata": {},
          "execution_count": 23
        }
      ]
    },
    {
      "cell_type": "code",
      "source": [
        "#Sonuçlar sadece 1 ve 0 olabildiğinden 3 ve üstü olan indexlerde sonuç 1 değilse sonuç 0 olarak kabul edilecektir.\n",
        "toplam = preds[0] + preds[1] + preds[2] + preds[3] + preds[4]\n",
        "toplam"
      ],
      "metadata": {
        "colab": {
          "base_uri": "https://localhost:8080/"
        },
        "id": "x58UZze23cCz",
        "outputId": "da195291-ae34-4247-99a5-759785bfb70c"
      },
      "execution_count": 35,
      "outputs": [
        {
          "output_type": "execute_result",
          "data": {
            "text/plain": [
              "array([1., 4., 1., 0., 5., 0., 5., 3., 1., 2., 5., 2., 5., 0., 4., 5., 5.,\n",
              "       3., 2., 5., 0., 1., 0., 4., 5., 0., 4., 4., 3., 3., 4., 5., 4., 2.,\n",
              "       4., 5., 0., 4., 5., 5., 4., 0., 1., 0., 5.])"
            ]
          },
          "metadata": {},
          "execution_count": 35
        }
      ]
    },
    {
      "cell_type": "code",
      "source": [
        "ensemble_learning_preds = np.where(toplam<3,0,1)"
      ],
      "metadata": {
        "id": "dspHfd5z3xGT"
      },
      "execution_count": 37,
      "outputs": []
    },
    {
      "cell_type": "code",
      "source": [
        "ensemble_learning_preds"
      ],
      "metadata": {
        "colab": {
          "base_uri": "https://localhost:8080/"
        },
        "id": "DzLb7_nj6Fm-",
        "outputId": "901aed69-e63d-40cf-ed6b-cbdc97782fdd"
      },
      "execution_count": 42,
      "outputs": [
        {
          "output_type": "execute_result",
          "data": {
            "text/plain": [
              "array([0, 1, 0, 0, 1, 0, 1, 1, 0, 0, 1, 0, 1, 0, 1, 1, 1, 1, 0, 1, 0, 0,\n",
              "       0, 1, 1, 0, 1, 1, 1, 1, 1, 1, 1, 0, 1, 1, 0, 1, 1, 1, 1, 0, 0, 0,\n",
              "       1])"
            ]
          },
          "metadata": {},
          "execution_count": 42
        }
      ]
    },
    {
      "cell_type": "code",
      "source": [
        "cm = confusion_matrix(y_test, ensemble_learning_preds)\n",
        "acc = accuracy_score(y_test, ensemble_learning_preds)"
      ],
      "metadata": {
        "id": "81PeiA5c5U3t"
      },
      "execution_count": 38,
      "outputs": []
    },
    {
      "cell_type": "code",
      "source": [
        "cm, acc"
      ],
      "metadata": {
        "colab": {
          "base_uri": "https://localhost:8080/"
        },
        "id": "gjRqnJKd5bJP",
        "outputId": "54b9a5fa-5828-47b1-8283-a9b54ff68265"
      },
      "execution_count": 41,
      "outputs": [
        {
          "output_type": "execute_result",
          "data": {
            "text/plain": [
              "(array([[10,  9],\n",
              "        [ 8, 18]]), 0.6222222222222222)"
            ]
          },
          "metadata": {},
          "execution_count": 41
        }
      ]
    },
    {
      "cell_type": "code",
      "source": [
        "#Ensemble learningte başarı maalesef düştü. Demokrasi her zaman tutmuyor demek ki :("
      ],
      "metadata": {
        "id": "I35HZ09N6Bt3"
      },
      "execution_count": null,
      "outputs": []
    }
  ],
  "metadata": {
    "colab": {
      "collapsed_sections": [],
      "name": "odev.ipynb",
      "provenance": []
    },
    "kernelspec": {
      "display_name": "Python 3",
      "language": "python",
      "name": "python3"
    },
    "language_info": {
      "codemirror_mode": {
        "name": "ipython",
        "version": 3
      },
      "file_extension": ".py",
      "mimetype": "text/x-python",
      "name": "python",
      "nbconvert_exporter": "python",
      "pygments_lexer": "ipython3",
      "version": "3.8.5"
    }
  },
  "nbformat": 4,
  "nbformat_minor": 0
}